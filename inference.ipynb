{
 "cells": [
  {
   "cell_type": "code",
   "execution_count": 4,
   "id": "df751214",
   "metadata": {},
   "outputs": [],
   "source": [
    "import datetime\n",
    "import torch\n",
    "from transformers import AutoTokenizer, AutoModelForCausalLM"
   ]
  },
  {
   "cell_type": "code",
   "execution_count": 5,
   "id": "b95bd8d1",
   "metadata": {},
   "outputs": [],
   "source": [
    "class Config:\n",
    "    bos_token = '<s>'\n",
    "    eos_token = '</s>'\n",
    "    usr_token = '<usr>'\n",
    "    pad_token = '<pad>'\n",
    "    sys_token = '<sys>'\n",
    "    unk_token = '<unk>'\n",
    "    mask_token = '<mask>'\n",
    "    max_length = 256\n",
    "    max_turns = 8\n",
    "    epochs = 2\n",
    "    batch_size = 4\n",
    "    device = torch.device(\"cuda\" if torch.cuda.is_available() else \"cpu\")\n",
    "    learning_rate = 1e-4\n",
    "    model_name = \"skt/kogpt2-base-v2\""
   ]
  },
  {
   "cell_type": "code",
   "execution_count": 6,
   "id": "90992ae7",
   "metadata": {},
   "outputs": [
    {
     "data": {
      "application/vnd.jupyter.widget-view+json": {
       "model_id": "d0f1282e5ab6455b9bfe5ac60082da19",
       "version_major": 2,
       "version_minor": 0
      },
      "text/plain": [
       "Downloading:   0%|          | 0.00/0.98k [00:00<?, ?B/s]"
      ]
     },
     "metadata": {},
     "output_type": "display_data"
    },
    {
     "data": {
      "application/vnd.jupyter.widget-view+json": {
       "model_id": "1717057459a84751abaf15b4b52e26e4",
       "version_major": 2,
       "version_minor": 0
      },
      "text/plain": [
       "Downloading:   0%|          | 0.00/2.69M [00:00<?, ?B/s]"
      ]
     },
     "metadata": {},
     "output_type": "display_data"
    },
    {
     "data": {
      "application/vnd.jupyter.widget-view+json": {
       "model_id": "037242c55d674112bc472404095daabf",
       "version_major": 2,
       "version_minor": 0
      },
      "text/plain": [
       "Downloading:   0%|          | 0.00/490M [00:00<?, ?B/s]"
      ]
     },
     "metadata": {},
     "output_type": "display_data"
    }
   ],
   "source": [
    "tokenizer = AutoTokenizer.from_pretrained(Config.model_name,\n",
    "            bos_token=Config.bos_token, eos_token=Config.eos_token, unk_token=Config.unk_token,\n",
    "            pad_token=Config.pad_token, mask_token=Config.mask_token, model_max_length=Config.max_length)\n",
    "model = AutoModelForCausalLM.from_pretrained(Config.model_name).to(Config.device)\n"
   ]
  },
  {
   "cell_type": "code",
   "execution_count": 7,
   "id": "a528de12",
   "metadata": {},
   "outputs": [
    {
     "data": {
      "text/plain": [
       "<All keys matched successfully>"
      ]
     },
     "execution_count": 7,
     "metadata": {},
     "output_type": "execute_result"
    }
   ],
   "source": [
    "model_path = 'models/model2.pth'\n",
    "\n",
    "model.load_state_dict(torch.load(model_path))"
   ]
  },
  {
   "cell_type": "code",
   "execution_count": 10,
   "id": "1d5632f7",
   "metadata": {
    "scrolled": true
   },
   "outputs": [
    {
     "name": "stdout",
     "output_type": "stream",
     "text": [
      "user > 안녕\n",
      "['<s>', '<usr>안녕<sys>', '안녕하세요? 형님! 형님! 형님! 형님! 저는 지금 형님과 함께 살고 있어요! ᄏ']\n",
      "user > 나랑?\n",
      "['<s>', '<usr>안녕<sys>', '안녕하세요? 형님! 형님! 형님! 형님! 저는 지금 형님과 함께 살고 있어요! ᄏ', '<usr>나랑?<sys>', '형님! 형님! ᄏᄏ 형님 ᄏᄏ 형님 ᄏᄏ 형님 ᄏᄏ 형님 ᄏᄏ 형']\n",
      "user > 앙\n",
      "['<s>', '<usr>안녕<sys>', '안녕하세요? 형님! 형님! 형님! 형님! 저는 지금 형님과 함께 살고 있어요! ᄏ', '<usr>나랑?<sys>', '형님! 형님! ᄏᄏ 형님 ᄏᄏ 형님 ᄏᄏ 형님 ᄏᄏ 형님 ᄏᄏ 형', '<usr>앙<sys>', '형님 ᄏᄏ 형님 ᄏᄏ 형님 ᄏᄏ 형님 ᄏᄏ 형님 ᄏᄏ 형님 ᄏᄏ']\n",
      "user > 앙\n",
      "['<s>', '<usr>안녕<sys>', '안녕하세요? 형님! 형님! 형님! 형님! 저는 지금 형님과 함께 살고 있어요! ᄏ', '<usr>나랑?<sys>', '형님! 형님! ᄏᄏ 형님 ᄏᄏ 형님 ᄏᄏ 형님 ᄏᄏ 형님 ᄏᄏ 형', '<usr>앙<sys>', '형님 ᄏᄏ 형님 ᄏᄏ 형님 ᄏᄏ 형님 ᄏᄏ 형님 ᄏᄏ 형님 ᄏᄏ', '<usr>앙<sys>', '형님 ᄏᄏ 형님 ᄏᄏ 형님 ᄏᄏ 형님 ᄏᄏ 형님 ᄏᄏ 형님 ᄏᄏ']\n",
      "user > 앙\n",
      "['<s>', '<usr>안녕<sys>', '안녕하세요? 형님! 형님! 형님! 형님! 저는 지금 형님과 함께 살고 있어요! ᄏ', '<usr>나랑?<sys>', '형님! 형님! ᄏᄏ 형님 ᄏᄏ 형님 ᄏᄏ 형님 ᄏᄏ 형님 ᄏᄏ 형', '<usr>앙<sys>', '형님 ᄏᄏ 형님 ᄏᄏ 형님 ᄏᄏ 형님 ᄏᄏ 형님 ᄏᄏ 형님 ᄏᄏ', '<usr>앙<sys>', '형님 ᄏᄏ 형님 ᄏᄏ 형님 ᄏᄏ 형님 ᄏᄏ 형님 ᄏᄏ 형님 ᄏᄏ', '<usr>앙<sys>', '형님 ᄏᄏ 형님 ᄏᄏ 형님 ᄏᄏ 형님 ᄏᄏ 형님 ᄏᄏ 형님 ᄏᄏ']\n",
      "user > 앙\n",
      "['<s>', '<usr>안녕<sys>', '안녕하세요? 형님! 형님! 형님! 형님! 저는 지금 형님과 함께 살고 있어요! ᄏ', '<usr>나랑?<sys>', '형님! 형님! ᄏᄏ 형님 ᄏᄏ 형님 ᄏᄏ 형님 ᄏᄏ 형님 ᄏᄏ 형', '<usr>앙<sys>', '형님 ᄏᄏ 형님 ᄏᄏ 형님 ᄏᄏ 형님 ᄏᄏ 형님 ᄏᄏ 형님 ᄏᄏ', '<usr>앙<sys>', '형님 ᄏᄏ 형님 ᄏᄏ 형님 ᄏᄏ 형님 ᄏᄏ 형님 ᄏᄏ 형님 ᄏᄏ', '<usr>앙<sys>', '형님 ᄏᄏ 형님 ᄏᄏ 형님 ᄏᄏ 형님 ᄏᄏ 형님 ᄏᄏ 형님 ᄏᄏ', '<usr>앙<sys>', '형님 ᄏᄏ 형님 ᄏᄏ 형님 ᄏᄏ 형님 ᄏᄏ 형님 ᄏ 형님 ᄏᄏ 형']\n",
      "user > 앙\n",
      "['<s>', '<usr>안녕<sys>', '안녕하세요? 형님! 형님! 형님! 형님! 저는 지금 형님과 함께 살고 있어요! ᄏ', '<usr>나랑?<sys>', '형님! 형님! ᄏᄏ 형님 ᄏᄏ 형님 ᄏᄏ 형님 ᄏᄏ 형님 ᄏᄏ 형', '<usr>앙<sys>', '형님 ᄏᄏ 형님 ᄏᄏ 형님 ᄏᄏ 형님 ᄏᄏ 형님 ᄏᄏ 형님 ᄏᄏ', '<usr>앙<sys>', '형님 ᄏᄏ 형님 ᄏᄏ 형님 ᄏᄏ 형님 ᄏᄏ 형님 ᄏᄏ 형님 ᄏᄏ', '<usr>앙<sys>', '형님 ᄏᄏ 형님 ᄏᄏ 형님 ᄏᄏ 형님 ᄏᄏ 형님 ᄏᄏ 형님 ᄏᄏ', '<usr>앙<sys>', '형님 ᄏᄏ 형님 ᄏᄏ 형님 ᄏᄏ 형님 ᄏᄏ 형님 ᄏ 형님 ᄏᄏ 형', '<usr>앙<sys>', '형님 ᄏᄏ 형님 ᄏᄏ 형님 ᄏᄏ 형님 ᄏᄏ 형님 ᄏᄏ 형님 ᄏᄏ']\n",
      "user > 앙\n",
      "['<s>', '<usr>안녕<sys>', '안녕하세요? 형님! 형님! 형님! 형님! 저는 지금 형님과 함께 살고 있어요! ᄏ', '<usr>나랑?<sys>', '형님! 형님! ᄏᄏ 형님 ᄏᄏ 형님 ᄏᄏ 형님 ᄏᄏ 형님 ᄏᄏ 형', '<usr>앙<sys>', '형님 ᄏᄏ 형님 ᄏᄏ 형님 ᄏᄏ 형님 ᄏᄏ 형님 ᄏᄏ 형님 ᄏᄏ', '<usr>앙<sys>', '형님 ᄏᄏ 형님 ᄏᄏ 형님 ᄏᄏ 형님 ᄏᄏ 형님 ᄏᄏ 형님 ᄏᄏ', '<usr>앙<sys>', '형님 ᄏᄏ 형님 ᄏᄏ 형님 ᄏᄏ 형님 ᄏᄏ 형님 ᄏᄏ 형님 ᄏᄏ', '<usr>앙<sys>', '형님 ᄏᄏ 형님 ᄏᄏ 형님 ᄏᄏ 형님 ᄏᄏ 형님 ᄏ 형님 ᄏᄏ 형', '<usr>앙<sys>', '형님 ᄏᄏ 형님 ᄏᄏ 형님 ᄏᄏ 형님 ᄏᄏ 형님 ᄏᄏ 형님 ᄏᄏ', '<usr>앙<sys>', 'ᄏᄏ 형님 ᄏᄏ 형님 ᄏᄏ 형님 ᄏᄏ 형']\n",
      "user > 앙\n",
      "['<s>', '<usr>나랑?<sys>', '형님! 형님! ᄏᄏ 형님 ᄏᄏ 형님 ᄏᄏ 형님 ᄏᄏ 형님 ᄏᄏ 형', '<usr>앙<sys>', '형님 ᄏᄏ 형님 ᄏᄏ 형님 ᄏᄏ 형님 ᄏᄏ 형님 ᄏᄏ 형님 ᄏᄏ', '<usr>앙<sys>', '형님 ᄏᄏ 형님 ᄏᄏ 형님 ᄏᄏ 형님 ᄏᄏ 형님 ᄏᄏ 형님 ᄏᄏ', '<usr>앙<sys>', '형님 ᄏᄏ 형님 ᄏᄏ 형님 ᄏᄏ 형님 ᄏᄏ 형님 ᄏᄏ 형님 ᄏᄏ', '<usr>앙<sys>', '형님 ᄏᄏ 형님 ᄏᄏ 형님 ᄏᄏ 형님 ᄏᄏ 형님 ᄏ 형님 ᄏᄏ 형', '<usr>앙<sys>', '형님 ᄏᄏ 형님 ᄏᄏ 형님 ᄏᄏ 형님 ᄏᄏ 형님 ᄏᄏ 형님 ᄏᄏ', '<usr>앙<sys>', 'ᄏᄏ 형님 ᄏᄏ 형님 ᄏᄏ 형님 ᄏᄏ 형', '<usr>앙<sys>', 'ᄏ ᄏ ᄏ ᄏ ᄏ ᄏ ᄏ ᄏ ᄏ ᄏ ᄏ ᄏ ᄏ ᄏ ᄏ']\n",
      "user > 앙\n",
      "['<s>', '<usr>앙<sys>', '형님 ᄏᄏ 형님 ᄏᄏ 형님 ᄏᄏ 형님 ᄏᄏ 형님 ᄏᄏ 형님 ᄏᄏ', '<usr>앙<sys>', '형님 ᄏᄏ 형님 ᄏᄏ 형님 ᄏᄏ 형님 ᄏᄏ 형님 ᄏᄏ 형님 ᄏᄏ', '<usr>앙<sys>', '형님 ᄏᄏ 형님 ᄏᄏ 형님 ᄏᄏ 형님 ᄏᄏ 형님 ᄏᄏ 형님 ᄏᄏ', '<usr>앙<sys>', '형님 ᄏᄏ 형님 ᄏᄏ 형님 ᄏᄏ 형님 ᄏᄏ 형님 ᄏ 형님 ᄏᄏ 형', '<usr>앙<sys>', '형님 ᄏᄏ 형님 ᄏᄏ 형님 ᄏᄏ 형님 ᄏᄏ 형님 ᄏᄏ 형님 ᄏᄏ', '<usr>앙<sys>', 'ᄏᄏ 형님 ᄏᄏ 형님 ᄏᄏ 형님 ᄏᄏ 형', '<usr>앙<sys>', 'ᄏ ᄏ ᄏ ᄏ ᄏ ᄏ ᄏ ᄏ ᄏ ᄏ ᄏ ᄏ ᄏ ᄏ ᄏ', '<usr>앙<sys>', 'ᄏ ᄏ ᄏ ᄏ ᄏ ᄏ ᄏ ᄏ ᄏ ᄏ ᄏ ᄏ ᄏ ᄏ ᄏ']\n",
      "user > 앙\n",
      "['<s>', '<usr>앙<sys>', '형님 ᄏᄏ 형님 ᄏᄏ 형님 ᄏᄏ 형님 ᄏᄏ 형님 ᄏᄏ 형님 ᄏᄏ', '<usr>앙<sys>', '형님 ᄏᄏ 형님 ᄏᄏ 형님 ᄏᄏ 형님 ᄏᄏ 형님 ᄏᄏ 형님 ᄏᄏ', '<usr>앙<sys>', '형님 ᄏᄏ 형님 ᄏᄏ 형님 ᄏᄏ 형님 ᄏᄏ 형님 ᄏ 형님 ᄏᄏ 형', '<usr>앙<sys>', '형님 ᄏᄏ 형님 ᄏᄏ 형님 ᄏᄏ 형님 ᄏᄏ 형님 ᄏᄏ 형님 ᄏᄏ', '<usr>앙<sys>', 'ᄏᄏ 형님 ᄏᄏ 형님 ᄏᄏ 형님 ᄏᄏ 형', '<usr>앙<sys>', 'ᄏ ᄏ ᄏ ᄏ ᄏ ᄏ ᄏ ᄏ ᄏ ᄏ ᄏ ᄏ ᄏ ᄏ ᄏ', '<usr>앙<sys>', 'ᄏ ᄏ ᄏ ᄏ ᄏ ᄏ ᄏ ᄏ ᄏ ᄏ ᄏ ᄏ ᄏ ᄏ ᄏ', '<usr>앙<sys>', 'ᄏ ᄏ ᄏ ᄏ ᄏ ᄏ ᄏ ᄏ ᄏ ᄏ ᄏ ᄏ ᄏ ᄏ ᄏ']\n",
      "user > 앙\n",
      "['<s>', '<usr>앙<sys>', '형님 ᄏᄏ 형님 ᄏᄏ 형님 ᄏᄏ 형님 ᄏᄏ 형님 ᄏᄏ 형님 ᄏᄏ', '<usr>앙<sys>', '형님 ᄏᄏ 형님 ᄏᄏ 형님 ᄏᄏ 형님 ᄏᄏ 형님 ᄏ 형님 ᄏᄏ 형', '<usr>앙<sys>', '형님 ᄏᄏ 형님 ᄏᄏ 형님 ᄏᄏ 형님 ᄏᄏ 형님 ᄏᄏ 형님 ᄏᄏ', '<usr>앙<sys>', 'ᄏᄏ 형님 ᄏᄏ 형님 ᄏᄏ 형님 ᄏᄏ 형', '<usr>앙<sys>', 'ᄏ ᄏ ᄏ ᄏ ᄏ ᄏ ᄏ ᄏ ᄏ ᄏ ᄏ ᄏ ᄏ ᄏ ᄏ', '<usr>앙<sys>', 'ᄏ ᄏ ᄏ ᄏ ᄏ ᄏ ᄏ ᄏ ᄏ ᄏ ᄏ ᄏ ᄏ ᄏ ᄏ', '<usr>앙<sys>', 'ᄏ ᄏ ᄏ ᄏ ᄏ ᄏ ᄏ ᄏ ᄏ ᄏ ᄏ ᄏ ᄏ ᄏ ᄏ', '<usr>앙<sys>', 'ᄏ ᄏ ᄏ ᄏ ᄏ ᄏ ᄏ ᄏ ᄏ ᄏ ᄏ ᄏ ᄏ ᄏ ᄏ']\n",
      "user > ㅏㅇ\n",
      "['<s>', '<usr>앙<sys>', '형님 ᄏᄏ 형님 ᄏᄏ 형님 ᄏᄏ 형님 ᄏᄏ 형님 ᄏ 형님 ᄏᄏ 형', '<usr>앙<sys>', '형님 ᄏᄏ 형님 ᄏᄏ 형님 ᄏᄏ 형님 ᄏᄏ 형님 ᄏᄏ 형님 ᄏᄏ', '<usr>앙<sys>', 'ᄏᄏ 형님 ᄏᄏ 형님 ᄏᄏ 형님 ᄏᄏ 형', '<usr>앙<sys>', 'ᄏ ᄏ ᄏ ᄏ ᄏ ᄏ ᄏ ᄏ ᄏ ᄏ ᄏ ᄏ ᄏ ᄏ ᄏ', '<usr>앙<sys>', 'ᄏ ᄏ ᄏ ᄏ ᄏ ᄏ ᄏ ᄏ ᄏ ᄏ ᄏ ᄏ ᄏ ᄏ ᄏ', '<usr>앙<sys>', 'ᄏ ᄏ ᄏ ᄏ ᄏ ᄏ ᄏ ᄏ ᄏ ᄏ ᄏ ᄏ ᄏ ᄏ ᄏ', '<usr>앙<sys>', 'ᄏ ᄏ ᄏ ᄏ ᄏ ᄏ ᄏ ᄏ ᄏ ᄏ ᄏ ᄏ ᄏ ᄏ ᄏ', '<usr>ㅏㅇ<sys>', 'ᄏ ᄏ ᄏ ᄏ ᄏ ᄏ ᄏ ᄏ ᄏ ᄏ ᄏ ᄏ ᄏ ᄏ ᄏ']\n",
      "user > 앙\n",
      "['<s>', '<usr>앙<sys>', '형님 ᄏᄏ 형님 ᄏᄏ 형님 ᄏᄏ 형님 ᄏᄏ 형님 ᄏᄏ 형님 ᄏᄏ', '<usr>앙<sys>', 'ᄏᄏ 형님 ᄏᄏ 형님 ᄏᄏ 형님 ᄏᄏ 형', '<usr>앙<sys>', 'ᄏ ᄏ ᄏ ᄏ ᄏ ᄏ ᄏ ᄏ ᄏ ᄏ ᄏ ᄏ ᄏ ᄏ ᄏ', '<usr>앙<sys>', 'ᄏ ᄏ ᄏ ᄏ ᄏ ᄏ ᄏ ᄏ ᄏ ᄏ ᄏ ᄏ ᄏ ᄏ ᄏ', '<usr>앙<sys>', 'ᄏ ᄏ ᄏ ᄏ ᄏ ᄏ ᄏ ᄏ ᄏ ᄏ ᄏ ᄏ ᄏ ᄏ ᄏ', '<usr>앙<sys>', 'ᄏ ᄏ ᄏ ᄏ ᄏ ᄏ ᄏ ᄏ ᄏ ᄏ ᄏ ᄏ ᄏ ᄏ ᄏ', '<usr>ㅏㅇ<sys>', 'ᄏ ᄏ ᄏ ᄏ ᄏ ᄏ ᄏ ᄏ ᄏ ᄏ ᄏ ᄏ ᄏ ᄏ ᄏ', '<usr>앙<sys>', 'ᄏ ᄏ ᄏ ᄏ ᄏ ᄏ ᄏ ᄏ ᄏ ᄏ ᄏ ᄏ ᄏ ᄏ ᄏ']\n",
      "user > 앙\n",
      "['<s>', '<usr>앙<sys>', 'ᄏᄏ 형님 ᄏᄏ 형님 ᄏᄏ 형님 ᄏᄏ 형', '<usr>앙<sys>', 'ᄏ ᄏ ᄏ ᄏ ᄏ ᄏ ᄏ ᄏ ᄏ ᄏ ᄏ ᄏ ᄏ ᄏ ᄏ', '<usr>앙<sys>', 'ᄏ ᄏ ᄏ ᄏ ᄏ ᄏ ᄏ ᄏ ᄏ ᄏ ᄏ ᄏ ᄏ ᄏ ᄏ', '<usr>앙<sys>', 'ᄏ ᄏ ᄏ ᄏ ᄏ ᄏ ᄏ ᄏ ᄏ ᄏ ᄏ ᄏ ᄏ ᄏ ᄏ', '<usr>앙<sys>', 'ᄏ ᄏ ᄏ ᄏ ᄏ ᄏ ᄏ ᄏ ᄏ ᄏ ᄏ ᄏ ᄏ ᄏ ᄏ', '<usr>ㅏㅇ<sys>', 'ᄏ ᄏ ᄏ ᄏ ᄏ ᄏ ᄏ ᄏ ᄏ ᄏ ᄏ ᄏ ᄏ ᄏ ᄏ', '<usr>앙<sys>', 'ᄏ ᄏ ᄏ ᄏ ᄏ ᄏ ᄏ ᄏ ᄏ ᄏ ᄏ ᄏ ᄏ ᄏ ᄏ', '<usr>앙<sys>', 'ᄏ ᄏ ᄏ ᄏ ᄏ ᄏ ᄏ ᄏ ᄏ ᄏ ᄏ ᄏ ᄏ ᄏ ᄏ']\n"
     ]
    },
    {
     "ename": "KeyboardInterrupt",
     "evalue": "Interrupted by user",
     "output_type": "error",
     "traceback": [
      "\u001b[0;31m---------------------------------------------------------------------------\u001b[0m",
      "\u001b[0;31mKeyboardInterrupt\u001b[0m                         Traceback (most recent call last)",
      "\u001b[0;32m/tmp/ipykernel_64/744863940.py\u001b[0m in \u001b[0;36m<module>\u001b[0;34m\u001b[0m\n\u001b[1;32m      2\u001b[0m \u001b[0;34m\u001b[0m\u001b[0m\n\u001b[1;32m      3\u001b[0m \u001b[0;32mwhile\u001b[0m \u001b[0;32mTrue\u001b[0m\u001b[0;34m:\u001b[0m\u001b[0;34m\u001b[0m\u001b[0;34m\u001b[0m\u001b[0m\n\u001b[0;32m----> 4\u001b[0;31m     \u001b[0muser_message\u001b[0m \u001b[0;34m=\u001b[0m \u001b[0minput\u001b[0m\u001b[0;34m(\u001b[0m\u001b[0;34m\"user > \"\u001b[0m\u001b[0;34m)\u001b[0m\u001b[0;34m\u001b[0m\u001b[0;34m\u001b[0m\u001b[0m\n\u001b[0m\u001b[1;32m      5\u001b[0m \u001b[0;34m\u001b[0m\u001b[0m\n\u001b[1;32m      6\u001b[0m     \u001b[0;32mif\u001b[0m \u001b[0muser_message\u001b[0m \u001b[0;34m==\u001b[0m \u001b[0;34m\"끝\"\u001b[0m\u001b[0;34m:\u001b[0m \u001b[0;32mbreak\u001b[0m\u001b[0;34m\u001b[0m\u001b[0;34m\u001b[0m\u001b[0m\n",
      "\u001b[0;32m/opt/conda/lib/python3.9/site-packages/ipykernel/kernelbase.py\u001b[0m in \u001b[0;36mraw_input\u001b[0;34m(self, prompt)\u001b[0m\n\u001b[1;32m   1005\u001b[0m                 \u001b[0;34m\"raw_input was called, but this frontend does not support input requests.\"\u001b[0m\u001b[0;34m\u001b[0m\u001b[0;34m\u001b[0m\u001b[0m\n\u001b[1;32m   1006\u001b[0m             )\n\u001b[0;32m-> 1007\u001b[0;31m         return self._input_request(\n\u001b[0m\u001b[1;32m   1008\u001b[0m             \u001b[0mstr\u001b[0m\u001b[0;34m(\u001b[0m\u001b[0mprompt\u001b[0m\u001b[0;34m)\u001b[0m\u001b[0;34m,\u001b[0m\u001b[0;34m\u001b[0m\u001b[0;34m\u001b[0m\u001b[0m\n\u001b[1;32m   1009\u001b[0m             \u001b[0mself\u001b[0m\u001b[0;34m.\u001b[0m\u001b[0m_parent_ident\u001b[0m\u001b[0;34m[\u001b[0m\u001b[0;34m\"shell\"\u001b[0m\u001b[0;34m]\u001b[0m\u001b[0;34m,\u001b[0m\u001b[0;34m\u001b[0m\u001b[0;34m\u001b[0m\u001b[0m\n",
      "\u001b[0;32m/opt/conda/lib/python3.9/site-packages/ipykernel/kernelbase.py\u001b[0m in \u001b[0;36m_input_request\u001b[0;34m(self, prompt, ident, parent, password)\u001b[0m\n\u001b[1;32m   1050\u001b[0m             \u001b[0;32mexcept\u001b[0m \u001b[0mKeyboardInterrupt\u001b[0m\u001b[0;34m:\u001b[0m\u001b[0;34m\u001b[0m\u001b[0;34m\u001b[0m\u001b[0m\n\u001b[1;32m   1051\u001b[0m                 \u001b[0;31m# re-raise KeyboardInterrupt, to truncate traceback\u001b[0m\u001b[0;34m\u001b[0m\u001b[0;34m\u001b[0m\u001b[0m\n\u001b[0;32m-> 1052\u001b[0;31m                 \u001b[0;32mraise\u001b[0m \u001b[0mKeyboardInterrupt\u001b[0m\u001b[0;34m(\u001b[0m\u001b[0;34m\"Interrupted by user\"\u001b[0m\u001b[0;34m)\u001b[0m \u001b[0;32mfrom\u001b[0m \u001b[0;32mNone\u001b[0m\u001b[0;34m\u001b[0m\u001b[0;34m\u001b[0m\u001b[0m\n\u001b[0m\u001b[1;32m   1053\u001b[0m             \u001b[0;32mexcept\u001b[0m \u001b[0mException\u001b[0m\u001b[0;34m:\u001b[0m\u001b[0;34m\u001b[0m\u001b[0;34m\u001b[0m\u001b[0m\n\u001b[1;32m   1054\u001b[0m                 \u001b[0mself\u001b[0m\u001b[0;34m.\u001b[0m\u001b[0mlog\u001b[0m\u001b[0;34m.\u001b[0m\u001b[0mwarning\u001b[0m\u001b[0;34m(\u001b[0m\u001b[0;34m\"Invalid Message:\"\u001b[0m\u001b[0;34m,\u001b[0m \u001b[0mexc_info\u001b[0m\u001b[0;34m=\u001b[0m\u001b[0;32mTrue\u001b[0m\u001b[0;34m)\u001b[0m\u001b[0;34m\u001b[0m\u001b[0;34m\u001b[0m\u001b[0m\n",
      "\u001b[0;31mKeyboardInterrupt\u001b[0m: Interrupted by user"
     ]
    }
   ],
   "source": [
    "history_limit = ['<s>']\n",
    "\n",
    "while True:\n",
    "    user_message = input(\"user > \")\n",
    "\n",
    "    if user_message == \"끝\": break\n",
    "        \n",
    "    if user_message == \"초기화\":\n",
    "        history_limit = ['<s>']\n",
    "        continue\n",
    "        \n",
    "    if len(history_limit) == Config.max_turns * 2 + 1:\n",
    "        history_limit = history_limit[: 1] + history_limit[3: ]\n",
    "        \n",
    "    user_message_pull = Config.usr_token + user_message + Config.sys_token\n",
    "\n",
    "    history_limit.append(user_message_pull)\n",
    "\n",
    "    message_ids = tokenizer.encode(''.join(history_limit), return_tensors=\"pt\").to(Config.device)\n",
    "\n",
    "    with torch.no_grad():\n",
    "        reply_ids = model.generate(\n",
    "                    message_ids,\n",
    "                    max_length=256,\n",
    "                    do_samples=True,\n",
    "                    top_k=9,\n",
    "                    top_p=0.95,\n",
    "                    bad_words_ids=[[tokenizer.convert_tokens_to_ids(token)] for token in [Config.sys_token, Config.usr_token]],\n",
    "                    max_new_tokens=30,\n",
    "                    eos_token_id=tokenizer.eos_token_id\n",
    "        )\n",
    "    decoded_ids = reply_ids[0, message_ids.shape[-1]: ]\n",
    "    if decoded_ids[-1] ==tokenizer.eos_token_id:\n",
    "        decoded_ids = decoded_ids[: -1]\n",
    "            \n",
    "    decoded_message = tokenizer.decode(decoded_ids)\n",
    "    \n",
    "    history_limit.append(decoded_message)\n",
    "\n",
    "    print(history_limit)\n",
    "    "
   ]
  },
  {
   "cell_type": "code",
   "execution_count": null,
   "id": "f920acbc",
   "metadata": {},
   "outputs": [],
   "source": []
  }
 ],
 "metadata": {
  "kernelspec": {
   "display_name": "Python 3 (ipykernel)",
   "language": "python",
   "name": "python3"
  },
  "language_info": {
   "codemirror_mode": {
    "name": "ipython",
    "version": 3
   },
   "file_extension": ".py",
   "mimetype": "text/x-python",
   "name": "python",
   "nbconvert_exporter": "python",
   "pygments_lexer": "ipython3",
   "version": "3.9.7"
  }
 },
 "nbformat": 4,
 "nbformat_minor": 5
}
